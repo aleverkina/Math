{
 "cells": [
  {
   "cell_type": "markdown",
   "id": "b3e43f06",
   "metadata": {},
   "source": [
    "1. Чему равен **коэффициент корреляции** в данной выборке: x = [4,5,2,3,1], y = [2,1,4,3,5] \n",
    "\n",
    "\n"
   ]
  },
  {
   "cell_type": "code",
   "execution_count": 14,
   "id": "658f5fc7",
   "metadata": {},
   "outputs": [],
   "source": [
    "#расчет корреляции Пирсона\n",
    "import statistics\n",
    "\n",
    "# группа X\n",
    "x = [4, 5, 2, 3, 1]\n",
    "# группа Y\n",
    "y = [2, 1, 4, 3, 5] \n",
    "# Покажем, что существует совершенная монотонная зависимость\n",
    "r = statistics.correlation(x, y)\n",
    "# -1.0"
   ]
  },
  {
   "cell_type": "markdown",
   "id": "558201e2",
   "metadata": {},
   "source": [
    "2. Компания уже потратила 10 миллионов на производство фильма (cost), а также было продано 8 миллионов книг (books). Продюсер интересуется, сколько вы посоветуете ему потратить миллионов на рекламу фильма (promotion), если он хочет, чтобы сборы от фильма составили 150 миллионов?"
   ]
  },
  {
   "cell_type": "markdown",
   "id": "75759a16",
   "metadata": {},
   "source": [
    "![Metrics](усл_статистика_1.png)"
   ]
  },
  {
   "cell_type": "markdown",
   "id": "bebc3c00",
   "metadata": {},
   "source": [
    "receipts = 7,68 + 3,66*cost + 7,62*promotion + 0,82*books #уравнение регрессии\n",
    "\n",
    "150 = 7,68 + 3,66*10 + 7,62*promotion + 0,82*8\n",
    "\n"
   ]
  },
  {
   "cell_type": "code",
   "execution_count": 9,
   "id": "9cf63d70",
   "metadata": {},
   "outputs": [],
   "source": [
    "promotion = (150 -7.68 - 36.6 - 6.56) / 7.62 # 13"
   ]
  },
  {
   "cell_type": "markdown",
   "id": "326e702c",
   "metadata": {},
   "source": [
    "3. В одном из опытов эмпирическое распределение частот некоторого цвета гороха приняло следующий вид: 18,55,27.\n",
    "\n",
    "Чему будут равны ожидаемые значения частот, если предполагаемое теоретическое распределение имеет следующий вид: 1:2:1. Рассчитайте **расстояние хи-квадрат**."
   ]
  },
  {
   "cell_type": "code",
   "execution_count": 9,
   "id": "6e42d74e",
   "metadata": {},
   "outputs": [],
   "source": [
    "N = 18 + 55 + 27 #100\n",
    "\n",
    "n = 1 + 2 + 1 # 4\n",
    "\n",
    "k = N / n #величина одной части\n",
    "\n",
    "k1 = k * 1 #25 ожидаемое значение 1\n",
    "\n",
    "k2 = k * 2 #50 ожидаемое значение 2\n",
    "\n",
    "k3 = k * 1 #25 ожидаемое значение 3\n",
    "\n",
    "x2 = (18 - 25)**2 / 25 + (55 - 50)**2 / 50 + (27 - 25)**2 / 25 #2.62"
   ]
  },
  {
   "cell_type": "markdown",
   "id": "08c0dff7",
   "metadata": {},
   "source": [
    " 4. Рассчитайте **ожидаемые частоты** для проверки нулевой гипотезы о независимости двух переменных X и Y.\n",
    " "
   ]
  },
  {
   "cell_type": "markdown",
   "id": "141de05f",
   "metadata": {},
   "source": [
    "![Metrics](усл_статистика_2.png)"
   ]
  },
  {
   "cell_type": "code",
   "execution_count": 3,
   "id": "4d213d3b",
   "metadata": {},
   "outputs": [],
   "source": [
    "import scipy.stats as sps\n",
    "\n",
    "sps.contingency.expected_freq(([10, 6], [5, 15]))"
   ]
  },
  {
   "cell_type": "markdown",
   "id": "61bac7fd",
   "metadata": {},
   "source": [
    "5. Проверьте нулевую гипотезу о взаимосвязи стиля вождения и пола водителя. Введите получившейся p - уровень значимости. **хи - квадрат**"
   ]
  },
  {
   "cell_type": "markdown",
   "id": "25b0a6c6",
   "metadata": {},
   "source": [
    "![Metrics](усл_статистика_3.png)"
   ]
  },
  {
   "cell_type": "code",
   "execution_count": 8,
   "id": "106e5646",
   "metadata": {},
   "outputs": [
    {
     "name": "stdout",
     "output_type": "stream",
     "text": [
      "\n",
      "Хи квадрат 0.9544070774762996\n",
      "p - value 0.6205162173513055\n",
      "Степеней свобод 2\n",
      "Ожидаемые наблюдения\n",
      "[[17.97297297 17.02702703]\n",
      " [11.81081081 11.18918919]\n",
      " [ 8.21621622  7.78378378]]\n",
      "\n"
     ]
    }
   ],
   "source": [
    "from scipy import stats\n",
    "chi2, p_value, dof, ev = stats.chi2_contingency(([20,15],[11,12],[7,9]))\n",
    "print(f'''\n",
    "Хи квадрат {chi2}\n",
    "p - value {p_value}\n",
    "Степеней свобод {dof}\n",
    "Ожидаемые наблюдения\n",
    "{ev}\n",
    "''')"
   ]
  },
  {
   "cell_type": "markdown",
   "id": "51b6d1ee",
   "metadata": {},
   "source": [
    "6. Предположим, мы подбросили монетку 100 раз, и 70 раз выпал орел. Чему равняется натуральный логарифм шансов выпадения решки?\n",
    "\n",
    "Чтобы не запутаться, давайте в этом задании рассматривать как \"успех\" - выпадение решки."
   ]
  },
  {
   "cell_type": "code",
   "execution_count": 5,
   "id": "b2bf59f4",
   "metadata": {},
   "outputs": [
    {
     "data": {
      "text/plain": [
       "-0.8472978603872037"
      ]
     },
     "execution_count": 5,
     "metadata": {},
     "output_type": "execute_result"
    }
   ],
   "source": [
    "import math \n",
    "\n",
    "math.log(3/7)"
   ]
  },
  {
   "cell_type": "markdown",
   "id": "b66f29bb",
   "metadata": {},
   "source": [
    "7. Предположим, что мы получили логарифм шансов выпадения решки, равный -1. Тогда вероятность выпадения решки равняется:"
   ]
  },
  {
   "cell_type": "code",
   "execution_count": 6,
   "id": "70a0e55c",
   "metadata": {},
   "outputs": [
    {
     "data": {
      "text/plain": [
       "0.2689414213699951"
      ]
     },
     "execution_count": 6,
     "metadata": {},
     "output_type": "execute_result"
    }
   ],
   "source": [
    "import math \n",
    "\n",
    "math.exp(-1)/(1 + math.exp(-1))"
   ]
  },
  {
   "cell_type": "markdown",
   "id": "5a43585b",
   "metadata": {},
   "source": [
    "8. С помощью логистической регрессии без предикторов мы захотели узнать, правда ли, что сдавая Анатолию Дмитриевичу, легче провалить экзамен, чем сдать. В нашей выборке было 50 студентов. Часть из них сдала экзамен (положительный исход), а часть - нет (отрицательный исход). Свободный член нашей регрессии оказался равен -0.8472979. Сколько человек всё-таки сдало экзамен?"
   ]
  },
  {
   "cell_type": "code",
   "execution_count": 12,
   "id": "95d125fd",
   "metadata": {},
   "outputs": [],
   "source": [
    "import math \n",
    "\n",
    "p = math.exp(-0.8472979) / (math.exp(-0.8472979) + 1) \n",
    "\n",
    "result = p * 50"
   ]
  },
  {
   "cell_type": "markdown",
   "id": "98c74ad9",
   "metadata": {},
   "source": [
    "9. Во сколько раз шансы выжить для женщин превышают шансы выжить для мужчин? Female Yes - 197, Female No - 64, Male Yes - 93, Male No -360."
   ]
  },
  {
   "cell_type": "code",
   "execution_count": 18,
   "id": "55e12f5f",
   "metadata": {},
   "outputs": [],
   "source": [
    "Odds_F = 197 / 64\n",
    "\n",
    "Odds_M = 93 / 360\n",
    "\n",
    "Result = Odds_F / Odds_M"
   ]
  },
  {
   "cell_type": "markdown",
   "id": "df3f44db",
   "metadata": {},
   "source": [
    "10. Из 50 исследованных представителей народа майя вариант 13910T был обнаружен у одного. Постройте нормальный 95% доверительный интервал для доли носителей варианта 13910T в популяции майя. Чему равна его нижняя граница? Округлите ответ до 4 знаков после десятичной точки."
   ]
  },
  {
   "cell_type": "code",
   "execution_count": 3,
   "id": "a0644e50",
   "metadata": {},
   "outputs": [
    {
     "name": "stdout",
     "output_type": "stream",
     "text": [
      "normal_interval [0.0, 0.0588] with width 0.05880530708179099\n"
     ]
    }
   ],
   "source": [
    "import numpy as np\n",
    "from statsmodels.stats.proportion import proportion_confint\n",
    "\n",
    "data_gen = np.zeros(50)\n",
    "data_gen[0] = 1\n",
    "\n",
    "normal_interval = proportion_confint(sum(data_gen), len(data_gen), method = 'normal')\n",
    "\n",
    "print (f'normal_interval [{normal_interval[0]}, {round(normal_interval[1],4)}] with width {normal_interval[1] - normal_interval[0]}')"
   ]
  },
  {
   "cell_type": "markdown",
   "id": "1215fddd",
   "metadata": {},
   "source": [
    "В условиях предыдущей задачи постройте 95% доверительный интервал Уилсона для доли носителей варианта 13910T в популяции майя. Чему равна его нижняя граница? Округлите ответ до 4 знаков после десятичной точки. "
   ]
  },
  {
   "cell_type": "code",
   "execution_count": 24,
   "id": "bf782df2",
   "metadata": {},
   "outputs": [
    {
     "name": "stdout",
     "output_type": "stream",
     "text": [
      "wilson_interval [0.003539259271646236, 0.105] with width 0.10141517662473191\n"
     ]
    }
   ],
   "source": [
    "wilson_interval = proportion_confint(sum(data_gen), len(data_gen), method = 'wilson')\n",
    "\n",
    "print (f'wilson_interval [{wilson_interval[0]}, {round(wilson_interval[1],4)}] with width {wilson_interval[1] - wilson_interval[0]}')                                                                                                "
   ]
  },
  {
   "cell_type": "markdown",
   "id": "1b573127",
   "metadata": {},
   "source": [
    "11. Пусть в популяции майя действительно 2% носителей варианта 13910T, как в выборке, которую мы исследовали. Какой объём выборки нужен, чтобы с помощью нормального интервала оценить долю носителей гена 13910T с точностью ± 0.01 на уровне доверия 95%?"
   ]
  },
  {
   "cell_type": "code",
   "execution_count": 25,
   "id": "cdca4fe6",
   "metadata": {},
   "outputs": [],
   "source": [
    "from statsmodels.stats.proportion import samplesize_confint_proportion"
   ]
  },
  {
   "cell_type": "code",
   "execution_count": 26,
   "id": "960940e0",
   "metadata": {},
   "outputs": [
    {
     "data": {
      "text/plain": [
       "753"
      ]
     },
     "execution_count": 26,
     "metadata": {},
     "output_type": "execute_result"
    }
   ],
   "source": [
    "n_samples = int(np.ceil(samplesize_confint_proportion(data_gen.mean(), 0.01)))\n",
    "n_samples"
   ]
  },
  {
   "cell_type": "markdown",
   "id": "0ddc11ac",
   "metadata": {},
   "source": [
    "12. В пятилетнем рандомизированном исследовании Гарвардской медицинской школы 11037 испытуемых через день принимали аспирин, а ещё 11034 — плацебо. Исследование было слепым, то есть, испытуемые не знали, что именно они принимают.\n",
    "\n",
    "За 5 лет инфаркт случился у 104 испытуемых, принимавших аспирин, и у 189 принимавших плацебо. \n",
    "\n",
    "Оцените, насколько вероятность инфаркта снижается при приёме аспирина. Округлите ответ до четырёх знаков после десятичной точки."
   ]
  },
  {
   "cell_type": "code",
   "execution_count": 5,
   "id": "1c41ec10",
   "metadata": {},
   "outputs": [
    {
     "name": "stdout",
     "output_type": "stream",
     "text": [
      "Infarction probability (aspirin): 0.0094\n",
      "Infarction probability (placebo): 0.0171\n",
      "Infarction probability decrease: 0.0077\n"
     ]
    }
   ],
   "source": [
    "aspirin_data = np.array( [1 if i<104 else 0 for i in range(11037)] )\n",
    "placebo_data = np.array( [1 if i<189 else 0 for i in range(11034)] )\n",
    "\n",
    "prob_infarction_aspirin = aspirin_data.sum() / aspirin_data.shape[0]\n",
    "prob_infarction_placebo = placebo_data.sum() / placebo_data.shape[0]\n",
    "print('Infarction probability (aspirin): %.4f' % prob_infarction_aspirin)\n",
    "print('Infarction probability (placebo): %.4f' % prob_infarction_placebo)\n",
    "print('Infarction probability decrease: %.4f' % (prob_infarction_placebo - prob_infarction_aspirin))"
   ]
  },
  {
   "cell_type": "markdown",
   "id": "9a0966cd",
   "metadata": {},
   "source": [
    "Постройте теперь 95% доверительный интервал для снижения вероятности инфаркта при приёме аспирина. Чему равна его верхняя граница? Округлите ответ до четырёх знаков после десятичной точки.  "
   ]
  },
  {
   "cell_type": "code",
   "execution_count": 6,
   "id": "6240a559",
   "metadata": {},
   "outputs": [
    {
     "name": "stdout",
     "output_type": "stream",
     "text": [
      "Confidence interval: [0.0047, 0.0107]\n"
     ]
    }
   ],
   "source": [
    "import numpy as np\n",
    "import pandas as pd\n",
    "\n",
    "import scipy\n",
    "from statsmodels.stats.weightstats import *\n",
    "from statsmodels.stats.proportion import proportion_confint\n",
    "\n",
    "#фунция для расчета доверительного интервала ддля разности долей двух независимых выборок\n",
    "def proportions_confint_diff_ind(sample1, sample2, alpha = 0.05):    \n",
    "    z = scipy.stats.norm.ppf(1 - alpha / 2.)   \n",
    "    p1 = float(sum(sample1)) / len(sample1)\n",
    "    p2 = float(sum(sample2)) / len(sample2)\n",
    "    \n",
    "    placebo = (p1 - p2) - z * np.sqrt(p1 * (1 - p1)/ len(sample1) + p2 * (1 - p2)/ len(sample2))\n",
    "    aspirin = (p1 - p2) + z * np.sqrt(p1 * (1 - p1)/ len(sample1) + p2 * (1 - p2)/ len(sample2))\n",
    "    \n",
    "    return (placebo, aspirin)\n",
    "\n",
    "print('Confidence interval: [%.4f, %.4f]' % proportions_confint_diff_ind(placebo_data, aspirin_data))"
   ]
  },
  {
   "cell_type": "markdown",
   "id": "02065ba4",
   "metadata": {},
   "source": [
    "Оцените, во сколько раз понижаются шансы инфаркта при регулярном приёме аспирина. Округлите ответ до четырёх знаков после десятичной точки. "
   ]
  },
  {
   "cell_type": "code",
   "execution_count": 7,
   "id": "7fc3aeab",
   "metadata": {
    "scrolled": true
   },
   "outputs": [
    {
     "name": "stdout",
     "output_type": "stream",
     "text": [
      "Odds aspirin: 0.0095\n",
      "Odds aspirin: 0.0174\n",
      "Times decrease of infarction: 1.8321\n"
     ]
    }
   ],
   "source": [
    "#функция для расчета шансов бернуллиевских величин\n",
    "def odds(data):\n",
    "    p = data.sum() / data.shape[0]\n",
    "    return p / (1 - p)\n",
    "\n",
    "odds_aspirin = odds(aspirin_data)\n",
    "print('Odds aspirin: %.4f' % odds_aspirin)\n",
    "odds_placebo = odds(placebo_data)\n",
    "print('Odds aspirin: %.4f' % odds_placebo)\n",
    "\n",
    "print('Times decrease of infarction: %.4f' % (odds_placebo / odds_aspirin))"
   ]
  },
  {
   "cell_type": "markdown",
   "id": "1fb7e293",
   "metadata": {},
   "source": [
    "Постройте для отношения шансов 95% доверительный интервал с помощью бутстрепа. Чему равна его нижняя граница? Округлите ответ до 4 знаков после десятичной точки."
   ]
  },
  {
   "cell_type": "code",
   "execution_count": 8,
   "id": "8fb47ece",
   "metadata": {},
   "outputs": [],
   "source": [
    "#функция для сэмплирования с возвращением\n",
    "def get_bootstrap_samples(data, n_samples):\n",
    "    indices = np.random.randint(0, len(data), (n_samples, len(data)))\n",
    "    samples = data[indices]\n",
    "    return samples\n",
    "\n",
    "#функция для расчета доверительного интервала\n",
    "def stat_intervals(stat, alpha):\n",
    "    boundaries = np.percentile(stat, [100 * alpha / 2., 100 * (1 - alpha / 2.)])\n",
    "    return boundaries\n",
    "\n",
    "np.random.seed(0)\n",
    "odds_aspirin_data = map(odds, get_bootstrap_samples(aspirin_data, 1000))\n",
    "odds_placebo_data = map(odds, get_bootstrap_samples(placebo_data, 1000))\n",
    "\n",
    "#print('95% confidence interval for times decrease of infarction: %s' %\n",
    "      #str(stat_intervals(odds_placebo_data / odds_aspirin_data, 0.05)))"
   ]
  },
  {
   "cell_type": "markdown",
   "id": "0774d1c8",
   "metadata": {},
   "source": [
    "13. По данным опроса, 75% работников ресторанов утверждают, что испытывают на работе существенный стресс, оказывающий негативное влияние на их личную жизнь. Крупная ресторанная сеть опрашивает 100 своих работников, чтобы выяснить, отличается ли уровень стресса работников в их ресторанах от среднего. 67 из 100 работников отметили высокий уровень стресса. \n",
    "\n",
    "Посчитайте достигаемый уровень значимости, округлите ответ до четырёх знаков после десятичной точки."
   ]
  },
  {
   "cell_type": "code",
   "execution_count": 4,
   "id": "304c0354",
   "metadata": {},
   "outputs": [
    {
     "name": "stdout",
     "output_type": "stream",
     "text": [
      "p-value: 0.0822\n"
     ]
    },
    {
     "name": "stderr",
     "output_type": "stream",
     "text": [
      "C:\\Users\\anastasia\\AppData\\Local\\Temp\\ipykernel_6084\\226448429.py:11: DeprecationWarning: 'binom_test' is deprecated in favour of 'binomtest' from version 1.7.0 and will be removed in Scipy 1.12.0.\n",
      "  print('p-value: %.4f' % stats.binom_test(67, 100, prob))\n"
     ]
    }
   ],
   "source": [
    "import numpy as np\n",
    "import pandas as pd\n",
    "from scipy import stats\n",
    "\n",
    "#задаем биномиальное распределение\n",
    "n = 100\n",
    "prob = 0.75\n",
    "F_H0 = stats.binom(n, prob)\n",
    "\n",
    "#выводим результат биномиального теста\n",
    "print('p-value: %.4f' % stats.binom_test(67, 100, prob))"
   ]
  },
  {
   "cell_type": "markdown",
   "id": "71c340f5",
   "metadata": {},
   "source": [
    "14.\n",
    "В одном из выпусков программы \"Разрушители легенд\" проверялось, действительно ли заразительна зевота. В эксперименте участвовало 50 испытуемых, проходивших собеседование на программу. Каждый из них разговаривал с рекрутером; в конце 34 из 50 бесед рекрутер зевал. Затем испытуемых просили подождать решения рекрутера в соседней пустой комнате. \n",
    "\n",
    "Во время ожидания 10 из 34 испытуемых экспериментальной группы и 4 из 16 испытуемых контрольной начали зевать. Таким образом, разница в доле зевающих людей в этих двух группах составила примерно 4.4%. Ведущие заключили, что миф о заразительности зевоты подтверждён. \n",
    "\n",
    "Можно ли утверждать, что доли зевающих в контрольной и экспериментальной группах отличаются статистически значимо? Посчитайте достигаемый уровень значимости при альтернативе заразительности зевоты, округлите до четырёх знаков после десятичной точки."
   ]
  },
  {
   "cell_type": "code",
   "execution_count": 1,
   "id": "b9e32a86",
   "metadata": {},
   "outputs": [
    {
     "name": "stdout",
     "output_type": "stream",
     "text": [
      "%pylab is deprecated, use %matplotlib inline and import the required libraries.\n",
      "Populating the interactive namespace from numpy and matplotlib\n",
      "95% confidence interval for a difference between proportions: [-0.217558, 0.305793]\n",
      "p-value: 0.372930\n"
     ]
    }
   ],
   "source": [
    "import numpy as np\n",
    "import pandas as pd\n",
    "\n",
    "import scipy\n",
    "from statsmodels.stats.weightstats import *\n",
    "from statsmodels.stats.proportion import proportion_confint\n",
    "%pylab inline\n",
    "\n",
    "\n",
    "\n",
    "def proportions_diff_confint_ind(a, n1, b, n2, alpha = 0.05):    \n",
    "    z = scipy.stats.norm.ppf(1 - alpha / 2.)\n",
    "    \n",
    "    p1 = float(a) / n1\n",
    "    p2 = float(b) / n2\n",
    "    \n",
    "    left_boundary = (p1 - p2) - z * np.sqrt(p1 * (1 - p1)/ n1 + p2 * (1 - p2)/ n2)\n",
    "    right_boundary = (p1 - p2) + z * np.sqrt(p1 * (1 - p1)/ n1 + p2 * (1 - p2)/ n2)\n",
    "    \n",
    "    return (left_boundary, right_boundary)\n",
    "\n",
    "def proportions_diff_z_stat_ind(a, n1, b, n2):        \n",
    "    p1 = float(a) / n1\n",
    "    p2 = float(b) / n2 \n",
    "    P = float(p1*n1 + p2*n2) / (n1 + n2)\n",
    "    \n",
    "    return (p1 - p2) / np.sqrt(P * (1 - P) * (1. / n1 + 1. / n2))\n",
    "\n",
    "def proportions_diff_z_test(z_stat, alternative = 'two-sided'):\n",
    "    if alternative not in ('two-sided', 'less', 'greater'):\n",
    "        raise ValueError(\"alternative not recognized\\n\"\n",
    "                         \"should be 'two-sided', 'less' or 'greater'\")\n",
    "    \n",
    "    if alternative == 'two-sided':\n",
    "        return 2 * (1 - scipy.stats.norm.cdf(np.abs(z_stat)))\n",
    "    \n",
    "    if alternative == 'less':\n",
    "        return scipy.stats.norm.cdf(z_stat)\n",
    "\n",
    "    if alternative == 'greater':\n",
    "        return 1 - scipy.stats.norm.cdf(z_stat)\n",
    "    \n",
    "    \n",
    "print(\"95%% confidence interval for a difference between proportions: [%f, %f]\" % proportions_diff_confint_ind(10, 34, 4, 16))\n",
    "\n",
    "\n",
    "print (\"p-value: %f\" % proportions_diff_z_test(proportions_diff_z_stat_ind(10, 34, 4, 16), alternative='greater'))"
   ]
  },
  {
   "cell_type": "markdown",
   "id": "6b13e1b2",
   "metadata": {},
   "source": [
    "15. \n",
    "Ежегодно более 200000 людей по всему миру сдают стандартизированный экзамен GMAT при поступлении на программы MBA. Средний результат составляет 525 баллов, стандартное отклонение — 100 баллов. \n",
    "\n",
    "Сто студентов закончили специальные подготовительные курсы и сдали экзамен. Средний полученный ими балл — 541.4. Проверьте гипотезу о неэффективности программы против односторонней альтернативы о том, что программа работает. Отвергается ли на уровне значимости 0.05 нулевая гипотеза? Введите достигаемый уровень значимости, округлённый до 4 знаков после десятичной точки.\n",
    "\n",
    "\n",
    "Оцените теперь эффективность подготовительных курсов, средний балл 100 выпускников которых равен 541.5. Отвергается ли на уровне значимости 0.05 та же самая нулевая гипотеза против той же самой альтернативы? Введите достигаемый уровень значимости, округлённый до 4 знаков после десятичной точки. "
   ]
  },
  {
   "cell_type": "code",
   "execution_count": 8,
   "id": "e4a4bff9",
   "metadata": {},
   "outputs": [
    {
     "data": {
      "text/plain": [
       "0.0494714680336481"
      ]
     },
     "execution_count": 8,
     "metadata": {},
     "output_type": "execute_result"
    }
   ],
   "source": [
    "import numpy as np\n",
    "import pandas as pd\n",
    "\n",
    "import scipy\n",
    "\n",
    "\n",
    "def get_z_score(sample_mean, pop_mean, sigma, n):\n",
    "    return float((sample_mean - pop_mean)) / (float(sigma) / np.sqrt(n))\n",
    "\n",
    "def get_p_value(z):\n",
    "    return 1 - scipy.stats.norm.cdf(z)\n",
    "\n",
    "\n",
    "get_p_value(get_z_score(541.4, 525, 100, 100))\n",
    "\n",
    "get_p_value(get_z_score(541.5, 525, 100, 100))"
   ]
  },
  {
   "cell_type": "markdown",
   "id": "6dc0d48d",
   "metadata": {},
   "source": [
    "16. В ходе исследования влияния лесозаготовки на биоразнообразие лесов острова Борнео собраны данные о количестве видов деревьев в 12 лесах, где вырубка не ведётся:22,22,15,13,19,19,18,20,21,13,13,15,\n",
    "и в 9 лесах, где идёт вырубка:\n",
    "17,18,18,15,12,4,14,15,10.\n",
    "Проверьте гипотезу о равенстве среднего количества видов в двух типах лесов против односторонней альтернативы о снижении биоразнообразия в вырубаемых лесах. Используйте ранговый критерий. Чему равен достигаемый уровень значимости? Округлите до четырёх знаков после десятичной точки."
   ]
  },
  {
   "cell_type": "code",
   "execution_count": 2,
   "id": "89725dae",
   "metadata": {},
   "outputs": [
    {
     "data": {
      "text/plain": [
       "MannwhitneyuResult(statistic=27.0, pvalue=0.02900499272087373)"
      ]
     },
     "execution_count": 2,
     "metadata": {},
     "output_type": "execute_result"
    }
   ],
   "source": [
    "from scipy import stats\n",
    "import numpy as np\n",
    "\n",
    "on = np.array([22,22,15,13,19,19,18,20,21,13,13,15])\n",
    "off = np.array([17,18,18,15,12,4,14,15,10])\n",
    "\n",
    "stats.mannwhitneyu(off, on, alternative='less')"
   ]
  },
  {
   "cell_type": "markdown",
   "id": "2c9f164d",
   "metadata": {},
   "source": [
    "17. Давайте вернёмся к данным выживаемости пациентов с лейкоцитарной лимфомой из видео про критерий знаков:\n",
    "49,58,75,110,112,132,151,276,281,362∗.\n",
    " \n",
    "Измерено остаточное время жизни с момента начала наблюдения (в неделях); звёздочка обозначает цензурирование сверху — исследование длилось 7 лет, и остаточное время жизни одного пациента, который дожил до конца наблюдения, неизвестно.\n",
    "\n",
    "Поскольку цензурировано только одно наблюдение, для проверки гипотезы \n",
    "H0:medX=200 на этих данных можно использовать критерий знаковых рангов — можно считать, что время дожития последнего пациента в точности равно 362, на ранг этого наблюдения это никак не повлияет. \n",
    "\n",
    "Критерием знаковых рангов проверьте эту гипотезу против двусторонней альтернативы, введите достигаемый уровень значимости, округлённый до четырёх знаков после десятичной точки."
   ]
  },
  {
   "cell_type": "code",
   "execution_count": 3,
   "id": "c8014906",
   "metadata": {},
   "outputs": [
    {
     "data": {
      "text/plain": [
       "WilcoxonResult(statistic=17.0, pvalue=0.322265625)"
      ]
     },
     "execution_count": 3,
     "metadata": {},
     "output_type": "execute_result"
    }
   ],
   "source": [
    "data = np.array([49,58,75,110,112,132,151,276,281,362])\n",
    "stats.wilcoxon(data - 200)"
   ]
  },
  {
   "cell_type": "markdown",
   "id": "cd04a2d3",
   "metadata": {},
   "source": [
    "18. 28 января 1986 года космический шаттл \"Челленджер\" взорвался при взлёте. Семь астронавтов, находившихся на борту, погибли. В ходе расследования причин катастрофы основной версией была неполадка с резиновыми уплотнительными кольцами в соединении с ракетными ускорителями. Для 23 предшествовавших катастрофе полётов \"Челленджера\" известны температура воздуха и появление повреждений хотя бы у одного из уплотнительных колец.\n",
    "С помощью бутстрепа постройте 95% доверительный интервал для разности средних температур воздуха при запусках, когда уплотнительные кольца повреждались, и запусках, когда повреждений не было. Чему равна его ближайшая к нулю граница? Округлите до четырёх знаков после запятой."
   ]
  },
  {
   "cell_type": "code",
   "execution_count": 4,
   "id": "bf252042",
   "metadata": {},
   "outputs": [
    {
     "name": "stdout",
     "output_type": "stream",
     "text": [
      "95% confidence interval for the difference between medians: [-7.93861607 -1.42299107]\n"
     ]
    }
   ],
   "source": [
    "import pandas as pd\n",
    "\n",
    "\n",
    "def get_bootstrap_samples(data, n_samples):\n",
    "    indices = np.random.randint(0, len(data), (n_samples, len(data)))\n",
    "    samples = data[indices]\n",
    "    return samples\n",
    "\n",
    "def stat_intervals(stat, alpha):\n",
    "    boundaries = np.percentile(stat, [100 * alpha / 2., 100 * (1 - alpha / 2.)])\n",
    "    return boundaries\n",
    "\n",
    "\n",
    "data = pd.read_csv('challenger.csv', sep='\\t')\n",
    "\n",
    "a = data[data['Incident']==0]['Temperature'].values\n",
    "b = data[data['Incident']==1]['Temperature'].values\n",
    "\n",
    "np.random.seed(0)\n",
    "\n",
    "a_scores = np.array(list(map(np.mean, get_bootstrap_samples(a, 1000))))\n",
    "b_scores = np.array(list(map(np.mean, get_bootstrap_samples(b, 1000))))\n",
    "\n",
    "print(f\"95% confidence interval for the difference between medians: {stat_intervals(b_scores - a_scores, 0.05)}\")  "
   ]
  },
  {
   "cell_type": "markdown",
   "id": "18fd375b",
   "metadata": {},
   "source": [
    "На данных предыдущей задачи проверьте гипотезу об одинаковой средней температуре воздуха в дни, когда уплотнительный кольца повреждались, и дни, когда повреждений не было. Используйте перестановочный критерий и двустороннюю альтернативу. Чему равен достигаемый уровень значимости? Округлите до четырёх знаков после десятичной точки. "
   ]
  },
  {
   "cell_type": "code",
   "execution_count": 15,
   "id": "53156863",
   "metadata": {},
   "outputs": [],
   "source": [
    "def permutation_t_stat_ind(sample1, sample2):\n",
    "    return np.mean(sample1) - np.mean(sample2)\n",
    "\n",
    "\n",
    "def get_random_combinations(n1, n2, max_combinations):\n",
    "    index = range(n1 + n2)\n",
    "    indices = set([tuple(index)])\n",
    "    for i in range(max_combinations - 1):\n",
    "        np.random.shuffle(index)\n",
    "        indices.add(tuple(index))\n",
    "    return [(index[:n1], index[n1:]) for index in indices]\n",
    "\n",
    "def permutation_zero_dist_ind(sample1, sample2, max_combinations = None):\n",
    "    joined_sample = np.hstack((sample1, sample2))\n",
    "    n1 = len(sample1)\n",
    "    n = len(joined_sample)\n",
    "    \n",
    "    if max_combinations:\n",
    "        indices = get_random_combinations(n1, len(sample2), max_combinations)\n",
    "    else:\n",
    "        indices = [(list(index), filter(lambda i: i not in index, range(n))) \\\n",
    "                    for index in itertools.combinations(range(n), n1)]\n",
    "    \n",
    "    distr = [joined_sample[list(i[0])].mean() - joined_sample[list(i[1])].mean() \\\n",
    "             for i in indices]\n",
    "    return distr\n",
    "\n",
    "def permutation_test(sample, mean, max_permutations = None, alternative = 'two-sided'):\n",
    "    if alternative not in ('two-sided', 'less', 'greater'):\n",
    "        raise ValueError(\"alternative not recognized\\n\"\n",
    "                         \"should be 'two-sided', 'less' or 'greater'\")\n",
    "    \n",
    "    t_stat = permutation_t_stat_ind(sample, mean)\n",
    "    \n",
    "    zero_distr = permutation_zero_dist_ind(sample, mean, max_permutations)\n",
    "    \n",
    "    if alternative == 'two-sided':\n",
    "        return sum([1. if abs(x) >= abs(t_stat) else 0. for x in zero_distr]) / len(zero_distr)\n",
    "    \n",
    "    if alternative == 'less':\n",
    "        return sum([1. if x <= t_stat else 0. for x in zero_distr]) / len(zero_distr)\n",
    "\n",
    "    if alternative == 'greater':\n",
    "        return sum([1. if x >= t_stat else 0. for x in zero_distr]) / len(zero_distr)\n",
    "    \n",
    "    \n",
    "    np.random.seed(0)\n",
    "    \n",
    "    print(f\"p-value: {permutation_test(a, b, max_permutations = 10000)}\")"
   ]
  },
  {
   "cell_type": "markdown",
   "id": "a89c8054",
   "metadata": {},
   "source": [
    "19. Используя критерий знаковых рангов, проведите попарное сравнение каждого классификатора с каждым. "
   ]
  },
  {
   "cell_type": "code",
   "execution_count": 7,
   "id": "0f5a3702",
   "metadata": {},
   "outputs": [
    {
     "name": "stderr",
     "output_type": "stream",
     "text": [
      "C:\\ProgramData\\anaconda3\\Lib\\site-packages\\scipy\\stats\\_morestats.py:4088: UserWarning: Exact p-value calculation does not work if there are zeros. Switching to normal approximation.\n",
      "  warnings.warn(\"Exact p-value calculation does not work if there are \"\n"
     ]
    }
   ],
   "source": [
    "import numpy as np\n",
    "import pandas as pd\n",
    "\n",
    "from scipy import stats\n",
    "from statsmodels.sandbox.stats.multicomp import multipletests \n",
    "\n",
    "from itertools import combinations\n",
    "\n",
    "aucs = pd.read_csv('AUCs.txt', delimiter='\\t')\n",
    "\n",
    "aucs.columns = [u'Dataset', u'C4.5', u'C4.5+m', u'C4.5+cf', u'C4.5+m+cf']\n",
    "\n",
    "w_stat = pd.DataFrame(columns=['Model 1', 'Model 2', 'Wilcoxon stat', 'p-value'])\n",
    "k = 0\n",
    "for i, j in combinations([1, 2, 3, 4], 2):\n",
    "    w_stat.loc[k, 'Model 1'], w_stat.loc[k, 'Model 2'] = aucs.columns[i], aucs.columns[j]\n",
    "    w_stat.loc[k, 'Wilcoxon stat'], w_stat.loc[k, 'p-value'] = stats.wilcoxon(aucs.iloc[:, i], aucs.iloc[:, j])\n",
    "    k += 1"
   ]
  },
  {
   "cell_type": "markdown",
   "id": "79f98dea",
   "metadata": {},
   "source": [
    "\n",
    "Сколько статистически значимых на уровне 0.05 различий мы обнаружили?"
   ]
  },
  {
   "cell_type": "code",
   "execution_count": 8,
   "id": "ab5768a7",
   "metadata": {},
   "outputs": [
    {
     "name": "stdout",
     "output_type": "stream",
     "text": [
      "Number of p-value <= 0.05: 3\n"
     ]
    }
   ],
   "source": [
    "diff_models_cnt = w_stat.loc[w_stat.loc[:, 'p-value'] <= 0.05, :].shape[0]\n",
    "print('Number of p-value <= 0.05: %d' % diff_models_cnt)"
   ]
  },
  {
   "cell_type": "markdown",
   "id": "f0dd84d2",
   "metadata": {},
   "source": [
    " Давайте сделаем поправку на множественную проверку. Начнём с метода Холма. Сколько гипотез можно отвергнуть на уровне значимости 0.05 после поправки этим методом?"
   ]
  },
  {
   "cell_type": "code",
   "execution_count": 10,
   "id": "66e0b33b",
   "metadata": {},
   "outputs": [],
   "source": [
    "reject, p_corrected, a1, a2 = multipletests(w_stat['p-value'], alpha = 0.05, method = 'holm')\n",
    "\n",
    "w_stat['p_corrected'] = p_corrected\n",
    "w_stat['reject'] = reject"
   ]
  },
  {
   "cell_type": "markdown",
   "id": "f57c7902",
   "metadata": {},
   "source": [
    "Сколько гипотез можно отвергнуть на уровне значимости 0.05 после поправки методом Бенджамини-Хохберга?"
   ]
  },
  {
   "cell_type": "code",
   "execution_count": 11,
   "id": "daede5dd",
   "metadata": {},
   "outputs": [
    {
     "name": "stdout",
     "output_type": "stream",
     "text": [
      "Number of p-value <= 0.05: 2\n"
     ]
    }
   ],
   "source": [
    "reject, p_corrected, a1, a2 = multipletests(w_stat['p-value'], alpha = 0.05, method = 'fdr_bh')\n",
    "\n",
    "w_stat['p_corrected'] = p_corrected\n",
    "w_stat['reject'] = reject\n",
    "\n",
    "diff_models_cnt = w_stat.loc[w_stat.loc[:, 'p_corrected'] <= 0.05, :].shape[0]\n",
    "print('Number of p-value <= 0.05: %d' % diff_models_cnt)"
   ]
  },
  {
   "cell_type": "markdown",
   "id": "409a74cd",
   "metadata": {},
   "source": [
    "20. Давайте проанализируем данные опроса 4361 женщин из Ботсваны. Загрузите данные и внимательно изучите их. Сколько разных значений принимает признак religion?"
   ]
  },
  {
   "cell_type": "code",
   "execution_count": 8,
   "id": "860b749d",
   "metadata": {},
   "outputs": [
    {
     "name": "stdout",
     "output_type": "stream",
     "text": [
      "<class 'pandas.core.frame.DataFrame'>\n",
      "RangeIndex: 4361 entries, 0 to 4360\n",
      "Data columns (total 15 columns):\n",
      " #   Column    Non-Null Count  Dtype  \n",
      "---  ------    --------------  -----  \n",
      " 0   ceb       4361 non-null   int64  \n",
      " 1   age       4361 non-null   int64  \n",
      " 2   educ      4361 non-null   int64  \n",
      " 3   religion  4361 non-null   object \n",
      " 4   idlnchld  4241 non-null   float64\n",
      " 5   knowmeth  4354 non-null   float64\n",
      " 6   usemeth   4290 non-null   float64\n",
      " 7   evermarr  4361 non-null   int64  \n",
      " 8   agefm     2079 non-null   float64\n",
      " 9   heduc     1956 non-null   float64\n",
      " 10  urban     4361 non-null   int64  \n",
      " 11  electric  4358 non-null   float64\n",
      " 12  radio     4359 non-null   float64\n",
      " 13  tv        4359 non-null   float64\n",
      " 14  bicycle   4358 non-null   float64\n",
      "dtypes: float64(9), int64(5), object(1)\n",
      "memory usage: 511.2+ KB\n"
     ]
    }
   ],
   "source": [
    "import numpy as np\n",
    "import pandas as pd\n",
    "\n",
    "from scipy import stats\n",
    "\n",
    "botswana = pd.read_csv('botswana.csv', delimiter='\\t', index_col=False)\n",
    "\n",
    "botswana.info()"
   ]
  },
  {
   "cell_type": "markdown",
   "id": "4ea570a7",
   "metadata": {},
   "source": [
    "\n",
    "Во многих признаках есть пропущенные значения. Сколько объектов из 4361 останется, если выбросить все, содержащие пропуски? "
   ]
  },
  {
   "cell_type": "code",
   "execution_count": 9,
   "id": "878ccffe",
   "metadata": {},
   "outputs": [
    {
     "data": {
      "text/plain": [
       "(1834, 15)"
      ]
     },
     "execution_count": 9,
     "metadata": {},
     "output_type": "execute_result"
    }
   ],
   "source": [
    "bw_wo_nan = botswana.dropna()\n",
    "bw_wo_nan.shape"
   ]
  },
  {
   "cell_type": "markdown",
   "id": "c7747d67",
   "metadata": {},
   "source": [
    "20. Предположим, это один из кластеров в наших данных, тогда чему будет равняться внутрикластерная сумма квадратов? [-3,3],[1,4],[2,6],[3,8],[5,2],[6,11],[7,1]"
   ]
  },
  {
   "cell_type": "code",
   "execution_count": 2,
   "id": "0365e291",
   "metadata": {},
   "outputs": [],
   "source": [
    "import numpy as np\n",
    "\n",
    "dots = np.array([[-3,3],[1,4],[2,6],[3,8],[5,2],[6,11],[7,1]])\n",
    "\n",
    "center = dots.mean(axis=0) #поиск центроида\n",
    "\n",
    "squares = (dots - center)**2 #квадараты отклонения от центроида по каждой оси\n",
    "\n",
    "sum_squares = squares.sum() #искомая сумма"
   ]
  }
 ],
 "metadata": {
  "kernelspec": {
   "display_name": "Python 3 (ipykernel)",
   "language": "python",
   "name": "python3"
  },
  "language_info": {
   "codemirror_mode": {
    "name": "ipython",
    "version": 3
   },
   "file_extension": ".py",
   "mimetype": "text/x-python",
   "name": "python",
   "nbconvert_exporter": "python",
   "pygments_lexer": "ipython3",
   "version": "3.11.5"
  }
 },
 "nbformat": 4,
 "nbformat_minor": 5
}
